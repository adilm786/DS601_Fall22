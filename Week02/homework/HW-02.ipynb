{
 "cells": [
  {
   "cell_type": "markdown",
   "id": "425024c2",
   "metadata": {},
   "source": [
    "## Homework 2\n",
    "\n",
    "Please complete the functions below. These functions are for to simulate a fair and a biased die. \n",
    "\n",
    "The biased die has probabilities {0.20, 0.10, 0.15, 0.15, 0.15, 0.25}.\n",
    "\n",
    "Create 2 visualizations that shows outcomes of multiple rolls of a fair die and biased die. \n",
    "* Visualization for fair die\n",
    "* Visualization for biased die\n",
    "\n",
    "Repeat the process programatically and take the mean to create a new list. This list will be used to compare means of biased & unbiased dice. \n",
    "* Create a historgram showing means of biased & unbiased die\n",
    "\n",
    "* Use subcharts\n",
    "* All visualizations must have appropriate titles.\n",
    "* There are 3 visualization and expected format is \n",
    "```\n",
    " [V1] [V2]\n",
    " [   V3  ]\n",
    " ```"
   ]
  },
  {
   "cell_type": "code",
   "execution_count": 8,
   "id": "7078d18a",
   "metadata": {},
   "outputs": [
    {
     "data": {
      "text/plain": [
       "(array([53.,  0., 46.,  0., 43.,  0., 56.,  0., 54., 48.]),\n",
       " array([1. , 1.5, 2. , 2.5, 3. , 3.5, 4. , 4.5, 5. , 5.5, 6. ]),\n",
       " <BarContainer object of 10 artists>)"
      ]
     },
     "execution_count": 8,
     "metadata": {},
     "output_type": "execute_result"
    },
    {
     "data": {
      "image/png": "[encoded data removed]",
      "text/plain": [
       "<Figure size 432x288 with 1 Axes>"
      ]
     },
     "metadata": {
      "needs_background": "light"
     },
     "output_type": "display_data"
    }
   ],
   "source": [
    "import random \n",
    "from numpy import mean\n",
    "import matplotlib.pyplot as plt\n",
    "\n",
    "trial_count = 500\n",
    "\n",
    "def fair_die_simulation(trials):\n",
    "    \"\"\"\n",
    "    returns an array of randomly numbers between 1 and 6. \n",
    "    \"\"\"\n",
    "    \n",
    "        \n",
    "    options = [1,2,3,4,5,6]\n",
    "    simulations = []\n",
    "    \n",
    "    for i in range(trials):\n",
    "        simulations.append(random.choice(options))\n",
    "    \n",
    "    \n",
    "    \n",
    "    return simulations\n",
    "\n",
    "plt.hist(fair_die_simulation(300))"
   ]
  },
  {
   "cell_type": "code",
   "execution_count": 29,
   "id": "5a02e11e",
   "metadata": {},
   "outputs": [
    {
     "data": {
      "text/plain": [
       "(array([58.,  0., 25.,  0., 26.,  0., 32.,  0., 37., 22.]),\n",
       " array([1. , 1.5, 2. , 2.5, 3. , 3.5, 4. , 4.5, 5. , 5.5, 6. ]),\n",
       " <BarContainer object of 10 artists>)"
      ]
     },
     "execution_count": 29,
     "metadata": {},
     "output_type": "execute_result"
    },
    {
     "data": {
      "image/png": "[encoded data removed]",
      "text/plain": [
       "<Figure size 432x288 with 1 Axes>"
      ]
     },
     "metadata": {
      "needs_background": "light"
     },
     "output_type": "display_data"
    }
   ],
   "source": [
    "def biased_die_simulations(trials, weights=[0.25, 0.15, 0.15, 0.15, 0.15, 0.15]):\n",
    "    \"\"\"\n",
    "    returns an array of randomly numbers between 1 and 6 with the probabilty of assosiated weight. \n",
    "    for instance: for weights: [0.25, 0.15, 0.15, 0.15, 0.15, 0.15]\n",
    "    1 has 0.25 change to be selected, 2 has 0.15 chance and so on...\n",
    "    \"\"\"\n",
    "    \n",
    "    options = [1,2,3,4,5,6]\n",
    "    \n",
    "    simulations = random.choices(options,weights, k = trials)\n",
    "    \n",
    "    \n",
    "    return simulations\n",
    "    \n",
    "\n",
    "\n",
    "plt.hist(biased_die_simulations(200))"
   ]
  },
  {
   "cell_type": "code",
   "execution_count": null,
   "id": "d209b72c",
   "metadata": {},
   "outputs": [],
   "source": [
    " "
   ]
  },
  {
   "cell_type": "code",
   "execution_count": 51,
   "id": "820b8321",
   "metadata": {},
   "outputs": [
    {
     "name": "stdout",
     "output_type": "stream",
     "text": [
      "[3.2, 3.4, 4.0, 3.8, 2.8, 3.3, 3.9, 4.3, 2.9, 3.1]\n"
     ]
    },
    {
     "data": {
      "text/plain": [
       "\"\\nhelp(subplots())\\naxs[0].hist(biased)\\naxs[1].hist(fair)\\n\\n\\nplt.hist(biased)\\n\\nplt.hist(fair)\\n\\nplt.title('Fair Die & Biased Die Comparison Histogram')\\nplt.show()\\n\""
      ]
     },
     "execution_count": 51,
     "metadata": {},
     "output_type": "execute_result"
    },
    {
     "data": {
      "image/png": "[encoded data removed]",
      "text/plain": [
       "<Figure size 720x360 with 3 Axes>"
      ]
     },
     "metadata": {
      "needs_background": "light"
     },
     "output_type": "display_data"
    }
   ],
   "source": [
    "import random\n",
    "import matplotlib.pyplot as plt\n",
    "#biased = mean_biased_die_simuations(trials)\n",
    "#fair = mean_fair_die_simulation(trials)\n",
    "def mean_biased_die_simulations(trials, weights=[0.25, 0.15, 0.15, 0.15, 0.15, 0.15]):\n",
    "    \n",
    "    '''returns an array of the means of biased die and puts them in a list'''\n",
    "    \n",
    "    options = [1,2,3,4,5,6]\n",
    "    \n",
    "    biased_mean_list = []\n",
    "    \n",
    "    \n",
    "    for i in range(trials):\n",
    "        #runs the simulations for biased die based on weights\n",
    "        simulations = random.choices(options,weights, k = trials)\n",
    "        \n",
    "        #computes the avg of the biased die list\n",
    "        avg = sum(simulations) / len(simulations)\n",
    "        \n",
    "        #puts the avg in a list for all the means\n",
    "        biased_mean_list.append(avg)\n",
    "        \n",
    "    \n",
    "    return biased_mean_list\n",
    "    \n",
    "\n",
    "# unbiased_mean_list = ...\n",
    "\n",
    "def mean_fair_die_simulation(trials):\n",
    "    \"\"\"\n",
    "    returns an array of randomly numbers between 1 and 6 and computes the \n",
    "    the mean and puts them into a list.\n",
    "    \"\"\"\n",
    "    \n",
    "        \n",
    "    options = [1,2,3,4,5,6]\n",
    "    #simulations = []\n",
    "    mean_fair_die_list = []\n",
    "    \n",
    "    for i in range(trials):\n",
    "        #runs the trials for the fair die\n",
    "        simulations = random.choices(options, k = trials)\n",
    "        \n",
    "        #print(simulations) -- this code is used for testing to see the list of simulations\n",
    "        \n",
    "        #computes the average\n",
    "        avg = sum(simulations) / len(simulations)\n",
    "        \n",
    "        #adds the mean to a list that keeps all the means of the trials\n",
    "        mean_fair_die_list.append(avg)\n",
    "    \n",
    "    \n",
    "    \n",
    "    return mean_fair_die_list\n",
    "\n",
    "print(mean_fair_die_simulation(10))\n",
    "\n",
    "biased = mean_biased_die_simulations(500)\n",
    "fair = mean_fair_die_simulation(500)\n",
    "\n",
    "\n",
    "fig, ((h1,h2), (h3,h4)) = plt.subplots(nrows = 2, ncols = 2, figsize=(10,5))\n",
    "\n",
    "h1.hist(biased)\n",
    "h1.title.set_text(\"Biased Die Histogram\")\n",
    "\n",
    "h2.hist(fair)\n",
    "h2.title.set_text(\"Fair Die Histogram\")\n",
    "\n",
    "\n",
    "plt.subplot(2,2,(3,4))\n",
    "plt.hist(biased)\n",
    "plt.hist(fair)\n",
    "plt.title('Biased and Fair Die Comparison')\n",
    "\n",
    "'''\n",
    "help(subplots())\n",
    "axs[0].hist(biased)\n",
    "axs[1].hist(fair)\n",
    "\n",
    "\n",
    "plt.hist(biased)\n",
    "\n",
    "plt.hist(fair)\n",
    "\n",
    "plt.title('Fair Die & Biased Die Comparison Histogram')\n",
    "plt.show()\n",
    "'''\n",
    "\n",
    "\n",
    "\n",
    "\n",
    "\n",
    "\n"
   ]
  },
  {
   "cell_type": "code",
   "execution_count": null,
   "id": "f0801fad",
   "metadata": {},
   "outputs": [],
   "source": []
  },
  {
   "cell_type": "code",
   "execution_count": null,
   "id": "1b6705b2",
   "metadata": {},
   "outputs": [],
   "source": []
  },
  {
   "cell_type": "code",
   "execution_count": null,
   "id": "cb5bcbb9",
   "metadata": {},
   "outputs": [],
   "source": []
  },
  {
   "cell_type": "code",
   "execution_count": null,
   "id": "5bb897fa",
   "metadata": {},
   "outputs": [],
   "source": []
  }
 ],
 "metadata": {
  "kernelspec": {
   "display_name": "Python 3 (ipykernel)",
   "language": "python",
   "name": "python3"
  },
  "language_info": {
   "codemirror_mode": {
    "name": "ipython",
    "version": 3
   },
   "file_extension": ".py",
   "mimetype": "text/x-python",
   "name": "python",
   "nbconvert_exporter": "python",
   "pygments_lexer": "ipython3",
   "version": "3.9.12"
  },
  "toc": {
   "base_numbering": 1,
   "nav_menu": {},
   "number_sections": true,
   "sideBar": true,
   "skip_h1_title": false,
   "title_cell": "Table of Contents",
   "title_sidebar": "Contents",
   "toc_cell": false,
   "toc_position": {},
   "toc_section_display": true,
   "toc_window_display": false
  }
 },
 "nbformat": 4,
 "nbformat_minor": 5
}
